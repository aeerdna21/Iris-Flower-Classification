{
 "cells": [
  {
   "cell_type": "markdown",
   "metadata": {},
   "source": [
    "# <span style='color :#E4CCA8' > Iris Flower Classification </span>\n",
    "_______\n"
   ]
  },
  {
   "cell_type": "markdown",
   "metadata": {},
   "source": [
    "  1. [ Data Import](#1) <br>\n",
    "  2. [ Data Preparation](#2)<br>\n",
    "  3. [ Data Splitting](#3)<br>\n",
    "  4. [ Choosing the Model -KNN](#4)<br>\n",
    "  5. [ Fitting the Model](#5)<br>\n",
    "  6. [ Model Evaluation](#6)<br>\n",
    "  7. [ Saving the Model ](#7)<br>\n",
    "  8. [ Other Algorithms](#8)<br>\n",
    "     8.1 [ Logistic Regression](#8.1)<br>\n",
    "     8.2 [ Decision Tree](#8.2)<br>\n",
    "     8.3 [ Random Forest](#8.3)<br>\n",
    "     8.4 [ Linear SVM(Suport Vector Machines)](#8.4)<br>\n",
    "     8.5 [ Kernel SVM(Suport Vector Machines)](#8.5)<br>\n",
    "  9. [ Comparison Between Algorithms](#9)<br>"
   ]
  },
  {
   "cell_type": "markdown",
   "metadata": {},
   "source": [
    "## 1. Data Import <a class=\"anchor\" id=\"1\"></a>"
   ]
  },
  {
   "cell_type": "code",
   "execution_count": 1,
   "metadata": {},
   "outputs": [],
   "source": [
    "from sklearn.datasets import load_iris\n",
    "from sklearn.model_selection import train_test_split\n",
    "import pandas as pd"
   ]
  },
  {
   "cell_type": "code",
   "execution_count": 2,
   "metadata": {},
   "outputs": [],
   "source": [
    "#use a data set from Scikit-Learn with 3 classes (Setosa,Versicolor,Virginica)\n",
    "#50 samples/class\n",
    "#data set - with number as parameters and shape (150,4): sepal lenght,sepal width,petal lenght,petal width -\n",
    "#target set - with integer between 0-2\n",
    "iris = load_iris()\n",
    "\n",
    "features = iris.feature_names\n",
    "labels = iris.target_names"
   ]
  },
  {
   "cell_type": "code",
   "execution_count": 3,
   "metadata": {},
   "outputs": [
    {
     "data": {
      "text/plain": [
       "array(['setosa', 'versicolor', 'virginica'], dtype='<U10')"
      ]
     },
     "execution_count": 3,
     "metadata": {},
     "output_type": "execute_result"
    }
   ],
   "source": [
    "labels"
   ]
  },
  {
   "cell_type": "code",
   "execution_count": 4,
   "metadata": {},
   "outputs": [
    {
     "data": {
      "text/plain": [
       "['sepal length (cm)',\n",
       " 'sepal width (cm)',\n",
       " 'petal length (cm)',\n",
       " 'petal width (cm)']"
      ]
     },
     "execution_count": 4,
     "metadata": {},
     "output_type": "execute_result"
    }
   ],
   "source": [
    "features"
   ]
  },
  {
   "cell_type": "markdown",
   "metadata": {},
   "source": [
    "## 2. Data Preparation <a class=\"anchor\" id=\"2\"></a>"
   ]
  },
  {
   "cell_type": "code",
   "execution_count": 5,
   "metadata": {},
   "outputs": [],
   "source": [
    "# split the data in X(features) and y(labels = target)\n",
    "X = iris.data\n",
    "y = iris.target"
   ]
  },
  {
   "cell_type": "code",
   "execution_count": 6,
   "metadata": {},
   "outputs": [
    {
     "data": {
      "text/html": [
       "<div>\n",
       "<style scoped>\n",
       "    .dataframe tbody tr th:only-of-type {\n",
       "        vertical-align: middle;\n",
       "    }\n",
       "\n",
       "    .dataframe tbody tr th {\n",
       "        vertical-align: top;\n",
       "    }\n",
       "\n",
       "    .dataframe thead th {\n",
       "        text-align: right;\n",
       "    }\n",
       "</style>\n",
       "<table border=\"1\" class=\"dataframe\">\n",
       "  <thead>\n",
       "    <tr style=\"text-align: right;\">\n",
       "      <th></th>\n",
       "      <th>sepal length (cm)</th>\n",
       "      <th>sepal width (cm)</th>\n",
       "      <th>petal length (cm)</th>\n",
       "      <th>petal width (cm)</th>\n",
       "      <th>labels</th>\n",
       "    </tr>\n",
       "  </thead>\n",
       "  <tbody>\n",
       "    <tr>\n",
       "      <th>0</th>\n",
       "      <td>5.1</td>\n",
       "      <td>3.5</td>\n",
       "      <td>1.4</td>\n",
       "      <td>0.2</td>\n",
       "      <td>0</td>\n",
       "    </tr>\n",
       "    <tr>\n",
       "      <th>1</th>\n",
       "      <td>4.9</td>\n",
       "      <td>3.0</td>\n",
       "      <td>1.4</td>\n",
       "      <td>0.2</td>\n",
       "      <td>0</td>\n",
       "    </tr>\n",
       "    <tr>\n",
       "      <th>2</th>\n",
       "      <td>4.7</td>\n",
       "      <td>3.2</td>\n",
       "      <td>1.3</td>\n",
       "      <td>0.2</td>\n",
       "      <td>0</td>\n",
       "    </tr>\n",
       "    <tr>\n",
       "      <th>3</th>\n",
       "      <td>4.6</td>\n",
       "      <td>3.1</td>\n",
       "      <td>1.5</td>\n",
       "      <td>0.2</td>\n",
       "      <td>0</td>\n",
       "    </tr>\n",
       "    <tr>\n",
       "      <th>4</th>\n",
       "      <td>5.0</td>\n",
       "      <td>3.6</td>\n",
       "      <td>1.4</td>\n",
       "      <td>0.2</td>\n",
       "      <td>0</td>\n",
       "    </tr>\n",
       "  </tbody>\n",
       "</table>\n",
       "</div>"
      ],
      "text/plain": [
       "   sepal length (cm)  sepal width (cm)  petal length (cm)  petal width (cm)  \\\n",
       "0                5.1               3.5                1.4               0.2   \n",
       "1                4.9               3.0                1.4               0.2   \n",
       "2                4.7               3.2                1.3               0.2   \n",
       "3                4.6               3.1                1.5               0.2   \n",
       "4                5.0               3.6                1.4               0.2   \n",
       "\n",
       "   labels  \n",
       "0       0  \n",
       "1       0  \n",
       "2       0  \n",
       "3       0  \n",
       "4       0  "
      ]
     },
     "execution_count": 6,
     "metadata": {},
     "output_type": "execute_result"
    }
   ],
   "source": [
    "#use DataFrame to view the first 5 records\n",
    "data = {\n",
    "  features[0]: X[:,0],\n",
    "  features[1]: X[:,1],\n",
    "  features[2]: X[:,2],\n",
    "  features[3]: X[:,3],\n",
    "  \"labels\": y\n",
    "\n",
    "}\n",
    "\n",
    "#load data into a DataFrame object:\n",
    "df = pd.DataFrame(data)\n",
    "\n",
    "df.head()"
   ]
  },
  {
   "cell_type": "code",
   "execution_count": 7,
   "metadata": {},
   "outputs": [
    {
     "data": {
      "text/plain": [
       "<matplotlib.collections.PathCollection at 0x17128a19b80>"
      ]
     },
     "execution_count": 7,
     "metadata": {},
     "output_type": "execute_result"
    },
    {
     "data": {
      "image/png": "[encoded data removed]",
      "text/plain": [
       "<Figure size 1440x720 with 2 Axes>"
      ]
     },
     "metadata": {
      "needs_background": "light"
     },
     "output_type": "display_data"
    }
   ],
   "source": [
    "from matplotlib import pyplot as plt\n",
    "%matplotlib inline\n",
    "from matplotlib import cm\n",
    "\n",
    "# Petal Length and Width\n",
    "fig = plt.figure(figsize=(20,10))\n",
    "ax = fig.add_subplot(121)\n",
    "ax.set_title('Iris Classification Based on Sepal length and width', fontsize=18)\n",
    "ax.set_xlabel('Sepal Length (cm)', fontsize=16)\n",
    "ax.set_ylabel('Sepal Width (cm)',fontsize=16)\n",
    "# setting grid lines \n",
    "ax.grid(True,linestyle='-',color='0.6')\n",
    "ax.scatter(df['sepal length (cm)'], df['sepal width (cm)'], s = 80, \n",
    "           c=df['labels'], marker='p')\n",
    "\n",
    "# Sepal Length and Width\n",
    "ax = fig.add_subplot(122)\n",
    "ax.set_title(\"Iris Classification Based on Petal length and width\", fontsize=18)\n",
    "ax.set_xlabel('Petal Length (cm)', fontsize=16)\n",
    "ax.set_ylabel('Petal width (cm)', fontsize=16)\n",
    "ax.grid(True, linestyle='-', color='0.6')\n",
    "ax.scatter(df['petal length (cm)'], df['petal width (cm)'], s = 80, \n",
    "           c=df['labels'], marker='*')"
   ]
  },
  {
   "cell_type": "markdown",
   "metadata": {},
   "source": [
    "## 3. Data Splitting <a class=\"anchor\" id=\"3\"></a>"
   ]
  },
  {
   "cell_type": "code",
   "execution_count": 8,
   "metadata": {},
   "outputs": [
    {
     "name": "stdout",
     "output_type": "stream",
     "text": [
      "Training set:  (120, 4)\n",
      "Testing set:  (30, 4)\n"
     ]
    }
   ],
   "source": [
    "#split the data in training set and testing set\n",
    "#80% training data and 220% test data=\n",
    "X_train, X_test, y_train, y_test = train_test_split(X, y, test_size =0.2)\n",
    "print('Training set: ', X_train.shape)\n",
    "print('Testing set: ', X_test.shape)"
   ]
  },
  {
   "cell_type": "markdown",
   "metadata": {},
   "source": [
    "## 4. Choosing the Model <a class=\"anchor\" id=\"4\"></a>"
   ]
  },
  {
   "cell_type": "code",
   "execution_count": 9,
   "metadata": {},
   "outputs": [
    {
     "data": {
      "text/plain": [
       "Text(0, 0.5, 'Accuracy')"
      ]
     },
     "execution_count": 9,
     "metadata": {},
     "output_type": "execute_result"
    },
    {
     "data": {
      "image/png": "[encoded data removed]",
      "text/plain": [
       "<Figure size 720x360 with 1 Axes>"
      ]
     },
     "metadata": {
      "needs_background": "light"
     },
     "output_type": "display_data"
    }
   ],
   "source": [
    "#to find the optimal value for k, the accuracy of the model will be plotted\n",
    "from sklearn.neighbors import KNeighborsClassifier\n",
    "from sklearn import metrics\n",
    "k_range = range(1, 31)\n",
    "scores = []\n",
    "for k in k_range:\n",
    "    knn = KNeighborsClassifier(n_neighbors=k)\n",
    "    knn.fit(X_train, y_train)\n",
    "    y_pred = knn.predict(X_test)\n",
    "    scores.append(metrics.accuracy_score(y_test, y_pred))\n",
    "    \n",
    "# plot the relationship between K and testing accuracy\n",
    "fig = plt.figure(figsize=(10,5))\n",
    "\n",
    "plt.grid(True, linestyle='-', color='0.6')\n",
    "plt.plot(k_range, scores, color=\"blue\")\n",
    "plt.xlabel(\"K-Value\")\n",
    "plt.ylabel(\"Accuracy\")   "
   ]
  },
  {
   "cell_type": "code",
   "execution_count": 10,
   "metadata": {},
   "outputs": [
    {
     "name": "stdout",
     "output_type": "stream",
     "text": [
      "Optim k is:  2\n"
     ]
    }
   ],
   "source": [
    "#find the optim  K (the number of closest neighbors)\n",
    "a= max(scores)\n",
    "a\n",
    "for k in k_range:\n",
    "    if scores[k] == a:\n",
    "        k_optim = k\n",
    "        print('Optim k is: ',k_optim)\n",
    "        break"
   ]
  },
  {
   "cell_type": "markdown",
   "metadata": {},
   "source": [
    "## 5. Fitting the Model<a class=\"anchor\" id=\"5\"></a>"
   ]
  },
  {
   "cell_type": "code",
   "execution_count": 11,
   "metadata": {},
   "outputs": [
    {
     "data": {
      "text/plain": [
       "KNeighborsClassifier(n_neighbors=2)"
      ]
     },
     "execution_count": 11,
     "metadata": {},
     "output_type": "execute_result"
    }
   ],
   "source": [
    "knn = KNeighborsClassifier(n_neighbors = 2)\n",
    "knn.fit(X_train, y_train)"
   ]
  },
  {
   "cell_type": "markdown",
   "metadata": {},
   "source": [
    "## 6. Model Evaluation <a class=\"anchor\" id=\"6\"></a>"
   ]
  },
  {
   "cell_type": "code",
   "execution_count": 12,
   "metadata": {},
   "outputs": [],
   "source": [
    "y_prediction = knn.predict(X_test)"
   ]
  },
  {
   "cell_type": "code",
   "execution_count": 13,
   "metadata": {},
   "outputs": [
    {
     "data": {
      "text/plain": [
       "0.9"
      ]
     },
     "execution_count": 13,
     "metadata": {},
     "output_type": "execute_result"
    }
   ],
   "source": [
    "#compare the prediction made on the test data set with the true values of the labels\n",
    "from sklearn import metrics\n",
    "a = metrics.accuracy_score(y_test, y_prediction)\n",
    "a"
   ]
  },
  {
   "cell_type": "code",
   "execution_count": 14,
   "metadata": {},
   "outputs": [
    {
     "data": {
      "text/plain": [
       "['virginica']"
      ]
     },
     "execution_count": 14,
     "metadata": {},
     "output_type": "execute_result"
    }
   ],
   "source": [
    "#make predictions on my own data set\n",
    "my_sample = [[2, 3, 4, 5]]\n",
    "predictions = knn.predict(my_sample)\n",
    "predicted_species = [iris.target_names[p] for p in predictions]\n",
    "predicted_species"
   ]
  },
  {
   "cell_type": "markdown",
   "metadata": {},
   "source": [
    "## 7. Saving the Model <a class=\"anchor\" id=\"7\"></a>"
   ]
  },
  {
   "cell_type": "code",
   "execution_count": 15,
   "metadata": {},
   "outputs": [],
   "source": [
    "#save the model\n",
    "import joblib\n",
    "knn_model = joblib.dump(knn, 'KNN_model.joblib')\n",
    "# model = joblib.load('KNN_model.joblib')"
   ]
  },
  {
   "cell_type": "markdown",
   "metadata": {},
   "source": [
    "## 8. Other Algorithms <a class=\"anchor\" id=\"8\"></a>\n",
    "### 8.1 Logistic Regression<a class=\"anchor\" id=\"8.1\"></a>"
   ]
  },
  {
   "cell_type": "code",
   "execution_count": 17,
   "metadata": {},
   "outputs": [
    {
     "name": "stdout",
     "output_type": "stream",
     "text": [
      "['virginica']\n",
      "Accuracy =  0.9666666666666667\n"
     ]
    }
   ],
   "source": [
    "from sklearn.linear_model import LogisticRegression\n",
    "lr = LogisticRegression(solver='lbfgs', max_iter=1000)\n",
    "lr.fit(X_train, y_train)\n",
    "y_predictions = lr.predict(X_test)\n",
    "predictions = lr.predict([[2,3,4,5]])\n",
    "predicted_species = [iris.target_names[p] for p in predictions]\n",
    "print(predicted_species)\n",
    "a1 = metrics.accuracy_score(y_test, y_predictions)\n",
    "print('Accuracy = ',a1)"
   ]
  },
  {
   "cell_type": "markdown",
   "metadata": {},
   "source": [
    "### 8.2 Decision Tree<a class=\"anchor\" id=\"8.2\"></a>"
   ]
  },
  {
   "cell_type": "code",
   "execution_count": 18,
   "metadata": {},
   "outputs": [
    {
     "name": "stdout",
     "output_type": "stream",
     "text": [
      "['virginica']\n",
      "Accuracy =  0.8666666666666667\n"
     ]
    }
   ],
   "source": [
    "from sklearn import tree\n",
    "decision_tree = tree.DecisionTreeClassifier(criterion='gini')\n",
    "decision_tree.fit(X_train, y_train)\n",
    "y_predictions = decision_tree.predict(X_test)\n",
    "predictions = decision_tree.predict([[2,3,4,5]])\n",
    "predicted_species = [iris.target_names[p] for p in predictions]\n",
    "print(predicted_species)\n",
    "a2 = metrics.accuracy_score(y_test, y_predictions)\n",
    "print('Accuracy = ',a2)"
   ]
  },
  {
   "cell_type": "markdown",
   "metadata": {},
   "source": [
    "### 8.3 Random Forest<a class=\"anchor\" id=\"8.3\"></a>"
   ]
  },
  {
   "cell_type": "code",
   "execution_count": 19,
   "metadata": {},
   "outputs": [
    {
     "name": "stdout",
     "output_type": "stream",
     "text": [
      "['virginica']\n",
      "Accuracy =  0.9\n"
     ]
    }
   ],
   "source": [
    "from sklearn.ensemble import RandomForestClassifier\n",
    "random_forest = RandomForestClassifier()\n",
    "random_forest.fit(X_train, y_train)\n",
    "y_predictions = random_forest.predict(X_test)\n",
    "predictions = random_forest.predict([[2,3,4,5]])\n",
    "predicted_species = [iris.target_names[p] for p in predictions]\n",
    "print(predicted_species)\n",
    "a3 = metrics.accuracy_score(y_test, y_predictions)\n",
    "print('Accuracy = ',a3)"
   ]
  },
  {
   "cell_type": "markdown",
   "metadata": {},
   "source": [
    "### 8.4 Linear SVM(Suport Vector Machines)<a class=\"anchor\" id=\"8.4\"></a>"
   ]
  },
  {
   "cell_type": "code",
   "execution_count": 20,
   "metadata": {},
   "outputs": [
    {
     "name": "stdout",
     "output_type": "stream",
     "text": [
      "['virginica']\n",
      "Accuracy =  0.9666666666666667\n"
     ]
    }
   ],
   "source": [
    "from sklearn.svm import SVC\n",
    "linear_svm = SVC(kernel='linear', C=1.0)\n",
    "linear_svm.fit(X_train, y_train)\n",
    "y_predictions = linear_svm.predict(X_test)\n",
    "predictions = linear_svm.predict([[2,3,4,5]])\n",
    "predicted_species = [iris.target_names[p] for p in predictions]\n",
    "print(predicted_species)\n",
    "a4 = metrics.accuracy_score(y_test, y_predictions)\n",
    "print('Accuracy = ',a4)"
   ]
  },
  {
   "cell_type": "markdown",
   "metadata": {},
   "source": [
    "### 8.5 Kernel SVM(Suport Vector Machines)<a class=\"anchor\" id=\"8.5\"></a>"
   ]
  },
  {
   "cell_type": "code",
   "execution_count": 21,
   "metadata": {},
   "outputs": [
    {
     "name": "stdout",
     "output_type": "stream",
     "text": [
      "['virginica']\n",
      "Accuracy =  0.9\n"
     ]
    }
   ],
   "source": [
    "from sklearn.svm import SVC\n",
    "kernel_svm = SVC(kernel='rbf', random_state=0, gamma=.10, C=1.0)\n",
    "kernel_svm.fit(X_train, y_train)\n",
    "y_predictions = kernel_svm.predict(X_test)\n",
    "predictions = kernel_svm.predict([[2,3,4,5]])\n",
    "predicted_species = [iris.target_names[p] for p in predictions]\n",
    "print(predicted_species)\n",
    "a5 = metrics.accuracy_score(y_test, y_predictions)\n",
    "print('Accuracy = ',a5)"
   ]
  },
  {
   "cell_type": "markdown",
   "metadata": {},
   "source": [
    "## 9. Comparison Between Algorithms <a class=\"anchor\" id=\"9\"></a>"
   ]
  },
  {
   "cell_type": "code",
   "execution_count": 23,
   "metadata": {},
   "outputs": [
    {
     "data": {
      "text/html": [
       "<div>\n",
       "<style scoped>\n",
       "    .dataframe tbody tr th:only-of-type {\n",
       "        vertical-align: middle;\n",
       "    }\n",
       "\n",
       "    .dataframe tbody tr th {\n",
       "        vertical-align: top;\n",
       "    }\n",
       "\n",
       "    .dataframe thead th {\n",
       "        text-align: right;\n",
       "    }\n",
       "</style>\n",
       "<table border=\"1\" class=\"dataframe\">\n",
       "  <thead>\n",
       "    <tr style=\"text-align: right;\">\n",
       "      <th></th>\n",
       "      <th>Model</th>\n",
       "      <th>Score</th>\n",
       "    </tr>\n",
       "  </thead>\n",
       "  <tbody>\n",
       "    <tr>\n",
       "      <th>1</th>\n",
       "      <td>Logistic Regression</td>\n",
       "      <td>0.966667</td>\n",
       "    </tr>\n",
       "    <tr>\n",
       "      <th>4</th>\n",
       "      <td>Linear SVM</td>\n",
       "      <td>0.966667</td>\n",
       "    </tr>\n",
       "    <tr>\n",
       "      <th>0</th>\n",
       "      <td>K-NN</td>\n",
       "      <td>0.900000</td>\n",
       "    </tr>\n",
       "    <tr>\n",
       "      <th>3</th>\n",
       "      <td>Random Forest</td>\n",
       "      <td>0.900000</td>\n",
       "    </tr>\n",
       "    <tr>\n",
       "      <th>5</th>\n",
       "      <td>Kernel SVM</td>\n",
       "      <td>0.900000</td>\n",
       "    </tr>\n",
       "    <tr>\n",
       "      <th>2</th>\n",
       "      <td>Decision Tree</td>\n",
       "      <td>0.866667</td>\n",
       "    </tr>\n",
       "  </tbody>\n",
       "</table>\n",
       "</div>"
      ],
      "text/plain": [
       "                 Model     Score\n",
       "1  Logistic Regression  0.966667\n",
       "4           Linear SVM  0.966667\n",
       "0                 K-NN  0.900000\n",
       "3        Random Forest  0.900000\n",
       "5           Kernel SVM  0.900000\n",
       "2        Decision Tree  0.866667"
      ]
     },
     "execution_count": 23,
     "metadata": {},
     "output_type": "execute_result"
    }
   ],
   "source": [
    "comparison = pd.DataFrame({\n",
    "    'Model': ['K-NN','Logistic Regression', 'Decision Tree','Random Forest' ,'Linear SVM','Kernel SVM'],\n",
    "    'Score': [a, a1, a2, a3, a4, a5]})\n",
    "comparison_df = comparison.sort_values(by='Score', ascending=False)\n",
    "\n",
    "comparison_df"
   ]
  },
  {
   "cell_type": "code",
   "execution_count": null,
   "metadata": {},
   "outputs": [],
   "source": []
  }
 ],
 "metadata": {
  "kernelspec": {
   "display_name": "Python 3",
   "language": "python",
   "name": "python3"
  },
  "language_info": {
   "codemirror_mode": {
    "name": "ipython",
    "version": 3
   },
   "file_extension": ".py",
   "mimetype": "text/x-python",
   "name": "python",
   "nbconvert_exporter": "python",
   "pygments_lexer": "ipython3",
   "version": "3.8.5"
  }
 },
 "nbformat": 4,
 "nbformat_minor": 4
}
